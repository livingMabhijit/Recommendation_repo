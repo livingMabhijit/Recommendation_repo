{
  "nbformat": 4,
  "nbformat_minor": 0,
  "metadata": {
    "colab": {
      "name": "Movie_lens.ipynb",
      "provenance": [],
      "collapsed_sections": [],
      "mount_file_id": "18nNbJuGsc9P1ZIHNufH5jT-1LKGSIygn",
      "authorship_tag": "ABX9TyOXeHQGpnrkhlq1wmXdC6Pu"
    },
    "kernelspec": {
      "name": "python3",
      "display_name": "Python 3"
    }
  },
  "cells": [
    {
      "cell_type": "code",
      "metadata": {
        "id": "PKpj0cJ8O74Y",
        "colab_type": "code",
        "colab": {
          "base_uri": "https://localhost:8080/",
          "height": 258
        },
        "outputId": "d1545de2-9721-4014-b422-b835a8638d0b"
      },
      "source": [
        "pip install pyspark"
      ],
      "execution_count": 2,
      "outputs": [
        {
          "output_type": "stream",
          "text": [
            "Collecting pyspark\n",
            "\u001b[?25l  Downloading https://files.pythonhosted.org/packages/9a/5a/271c416c1c2185b6cb0151b29a91fff6fcaed80173c8584ff6d20e46b465/pyspark-2.4.5.tar.gz (217.8MB)\n",
            "\u001b[K     |████████████████████████████████| 217.8MB 61kB/s \n",
            "\u001b[?25hCollecting py4j==0.10.7\n",
            "\u001b[?25l  Downloading https://files.pythonhosted.org/packages/e3/53/c737818eb9a7dc32a7cd4f1396e787bd94200c3997c72c1dbe028587bd76/py4j-0.10.7-py2.py3-none-any.whl (197kB)\n",
            "\u001b[K     |████████████████████████████████| 204kB 49.0MB/s \n",
            "\u001b[?25hBuilding wheels for collected packages: pyspark\n",
            "  Building wheel for pyspark (setup.py) ... \u001b[?25l\u001b[?25hdone\n",
            "  Created wheel for pyspark: filename=pyspark-2.4.5-py2.py3-none-any.whl size=218257927 sha256=8633c45a4f8fd6ae7fc11ffa1b4d6a6e6b40fa177e015f1269d10472a226a011\n",
            "  Stored in directory: /root/.cache/pip/wheels/bf/db/04/61d66a5939364e756eb1c1be4ec5bdce6e04047fc7929a3c3c\n",
            "Successfully built pyspark\n",
            "Installing collected packages: py4j, pyspark\n",
            "Successfully installed py4j-0.10.7 pyspark-2.4.5\n"
          ],
          "name": "stdout"
        }
      ]
    },
    {
      "cell_type": "code",
      "metadata": {
        "id": "XqRj0eCdNvm5",
        "colab_type": "code",
        "colab": {}
      },
      "source": [
        "\n",
        "import pyspark as ps\n",
        "from pyspark.sql import SparkSession\n",
        "from pyspark.sql import SQLContext\n",
        "from pyspark.ml.evaluation import RegressionEvaluator\n",
        "from pyspark.ml.tuning import CrossValidator,ParamGridBuilder\n",
        "from pyspark.ml import Pipeline\n",
        "from pyspark.sql import Row\n",
        "from pyspark.ml.recommendation import ALS\n",
        "from pyspark.sql.functions import udf,col,when\n",
        "import numpy as np"
      ],
      "execution_count": 0,
      "outputs": []
    },
    {
      "cell_type": "code",
      "metadata": {
        "id": "HxxZ7RILO0-n",
        "colab_type": "code",
        "colab": {}
      },
      "source": [
        "directory = '/content/drive/My Drive/datasets/movie_lens'"
      ],
      "execution_count": 0,
      "outputs": []
    },
    {
      "cell_type": "code",
      "metadata": {
        "id": "byuRLZyZQvSt",
        "colab_type": "code",
        "colab": {}
      },
      "source": [
        "spark = SparkSession.builder.appName('MovieRecommendor').getOrCreate()"
      ],
      "execution_count": 0,
      "outputs": []
    },
    {
      "cell_type": "code",
      "metadata": {
        "id": "X3zUNrWsP5A7",
        "colab_type": "code",
        "colab": {}
      },
      "source": [
        ""
      ],
      "execution_count": 0,
      "outputs": []
    },
    {
      "cell_type": "code",
      "metadata": {
        "id": "R6pd-d0JP8Qz",
        "colab_type": "code",
        "colab": {}
      },
      "source": [
        "sc = spark.sparkContext\n",
        "sqlContext = SQLContext(sc)"
      ],
      "execution_count": 0,
      "outputs": []
    },
    {
      "cell_type": "code",
      "metadata": {
        "id": "ypDFU-eJR9Nj",
        "colab_type": "code",
        "colab": {
          "base_uri": "https://localhost:8080/",
          "height": 204
        },
        "outputId": "d82ca02d-4a3e-47fb-da8a-a07855ec079d"
      },
      "source": [
        "rating_df = spark.read.csv('/content/drive/My Drive/datasets/movie_lens/ratings.csv',inferSchema=True,header=True)\n",
        "rating_df.show(5)"
      ],
      "execution_count": 5,
      "outputs": [
        {
          "output_type": "stream",
          "text": [
            "+------+-------+------+---------+\n",
            "|userId|movieId|rating|timestamp|\n",
            "+------+-------+------+---------+\n",
            "|     1|      1|   4.0|964982703|\n",
            "|     1|      3|   4.0|964981247|\n",
            "|     1|      6|   4.0|964982224|\n",
            "|     1|     47|   5.0|964983815|\n",
            "|     1|     50|   5.0|964982931|\n",
            "+------+-------+------+---------+\n",
            "only showing top 5 rows\n",
            "\n"
          ],
          "name": "stdout"
        }
      ]
    },
    {
      "cell_type": "code",
      "metadata": {
        "id": "UszO2t0ASP2k",
        "colab_type": "code",
        "colab": {
          "base_uri": "https://localhost:8080/",
          "height": 119
        },
        "outputId": "0ffc6bc3-d42a-4bf1-9eb4-bca45863847c"
      },
      "source": [
        "rating_df.printSchema()"
      ],
      "execution_count": 6,
      "outputs": [
        {
          "output_type": "stream",
          "text": [
            "root\n",
            " |-- userId: integer (nullable = true)\n",
            " |-- movieId: integer (nullable = true)\n",
            " |-- rating: double (nullable = true)\n",
            " |-- timestamp: integer (nullable = true)\n",
            "\n"
          ],
          "name": "stdout"
        }
      ]
    },
    {
      "cell_type": "code",
      "metadata": {
        "id": "fiOklaQzSYvn",
        "colab_type": "code",
        "colab": {
          "base_uri": "https://localhost:8080/",
          "height": 204
        },
        "outputId": "192e94dc-009b-470a-e358-14fb4b7d3f20"
      },
      "source": [
        "movie_df = spark.read.csv('/content/drive/My Drive/datasets/movie_lens/movies.csv',inferSchema=True,header=True)\n",
        "movie_df.show(5)"
      ],
      "execution_count": 7,
      "outputs": [
        {
          "output_type": "stream",
          "text": [
            "+-------+--------------------+--------------------+\n",
            "|movieId|               title|              genres|\n",
            "+-------+--------------------+--------------------+\n",
            "|      1|    Toy Story (1995)|Adventure|Animati...|\n",
            "|      2|      Jumanji (1995)|Adventure|Childre...|\n",
            "|      3|Grumpier Old Men ...|      Comedy|Romance|\n",
            "|      4|Waiting to Exhale...|Comedy|Drama|Romance|\n",
            "|      5|Father of the Bri...|              Comedy|\n",
            "+-------+--------------------+--------------------+\n",
            "only showing top 5 rows\n",
            "\n"
          ],
          "name": "stdout"
        }
      ]
    },
    {
      "cell_type": "code",
      "metadata": {
        "id": "5lHySisaSkH1",
        "colab_type": "code",
        "colab": {
          "base_uri": "https://localhost:8080/",
          "height": 204
        },
        "outputId": "01bfe848-aeab-4aff-80af-b005c430aaaa"
      },
      "source": [
        "link_df = spark.read.csv('/content/drive/My Drive/datasets/movie_lens/links.csv',inferSchema=True,header=True)\n",
        "link_df.show(5)"
      ],
      "execution_count": 8,
      "outputs": [
        {
          "output_type": "stream",
          "text": [
            "+-------+------+------+\n",
            "|movieId|imdbId|tmdbId|\n",
            "+-------+------+------+\n",
            "|      1|114709|   862|\n",
            "|      2|113497|  8844|\n",
            "|      3|113228| 15602|\n",
            "|      4|114885| 31357|\n",
            "|      5|113041| 11862|\n",
            "+-------+------+------+\n",
            "only showing top 5 rows\n",
            "\n"
          ],
          "name": "stdout"
        }
      ]
    },
    {
      "cell_type": "code",
      "metadata": {
        "id": "fdFFjnLgS5bT",
        "colab_type": "code",
        "colab": {}
      },
      "source": [
        "train_df, val_df = rating_df.randomSplit([0.8,0.2])"
      ],
      "execution_count": 0,
      "outputs": []
    },
    {
      "cell_type": "code",
      "metadata": {
        "id": "aRUTiUrSTJ2M",
        "colab_type": "code",
        "colab": {}
      },
      "source": [
        "#parameter init\n",
        "iterations = 13\n",
        "reg_param = 0.1 #lambda\n",
        "rank = 5 #rank matrix\n",
        "errors = []\n",
        "err = 0 "
      ],
      "execution_count": 0,
      "outputs": []
    },
    {
      "cell_type": "code",
      "metadata": {
        "id": "1y37xyHjTdg4",
        "colab_type": "code",
        "colab": {
          "base_uri": "https://localhost:8080/",
          "height": 34
        },
        "outputId": "e63a78a9-f995-4ebc-eb24-8135f21c3dfa"
      },
      "source": [
        "#model build\n",
        "als = ALS(rank=rank,maxIter=iterations,regParam=reg_param,userCol='userId',itemCol='movieId',ratingCol='rating')\n",
        "model  = als.fit(train_df)\n",
        "pred = model.transform(val_df)\n",
        "new_pred = pred.filter(col('prediction')!=np.nan)\n",
        "evaluator = RegressionEvaluator(metricName='rmse',labelCol='rating',predictionCol='prediction')\n",
        "rmse = evaluator.evaluate(new_pred)\n",
        "print(rmse)"
      ],
      "execution_count": 19,
      "outputs": [
        {
          "output_type": "stream",
          "text": [
            "0.8847065675874617\n"
          ],
          "name": "stdout"
        }
      ]
    },
    {
      "cell_type": "code",
      "metadata": {
        "id": "eeam31TtT3FB",
        "colab_type": "code",
        "colab": {
          "base_uri": "https://localhost:8080/",
          "height": 85
        },
        "outputId": "2fe696ba-52e7-4a0b-f8d0-0494be2f34ed"
      },
      "source": [
        "  ###in case you get error for java, here is the code\n",
        "import os #importing os to set environment variable\n",
        "def install_java():\n",
        "  # !apt-get install -y openjdk-8-jdk-headless -qq > /dev/null #install openjdk\n",
        "  # os.environ[\"JAVA_HOME\"] = \"/usr/lib/jvm/java-8-openjdk-amd64\" #set environment variable\n",
        "  # !java -version #check java version\n",
        "  !apt-get install openjdk-8-jdk-headless -qq > /dev/null\n",
        "  import os\n",
        "  os.environ[\"JAVA_HOME\"] = \"/usr/lib/jvm/java-8-openjdk-amd64\"\n",
        "  !update-alternatives --set java /usr/lib/jvm/java-8-openjdk-amd64/jre/bin/java\n",
        "  !java -version\n",
        "install_java()"
      ],
      "execution_count": 27,
      "outputs": [
        {
          "output_type": "stream",
          "text": [
            "update-alternatives: using /usr/lib/jvm/java-8-openjdk-amd64/jre/bin/java to provide /usr/bin/java (java) in manual mode\n",
            "openjdk version \"1.8.0_252\"\n",
            "OpenJDK Runtime Environment (build 1.8.0_252-8u252-b09-1~18.04-b09)\n",
            "OpenJDK 64-Bit Server VM (build 25.252-b09, mixed mode)\n"
          ],
          "name": "stdout"
        }
      ]
    },
    {
      "cell_type": "code",
      "metadata": {
        "id": "XCgTZBwoT8Ph",
        "colab_type": "code",
        "colab": {
          "base_uri": "https://localhost:8080/",
          "height": 204
        },
        "outputId": "ddb79681-29c1-4ea6-9226-441d85e9bdd2"
      },
      "source": [
        "prediction = model.transform(val_df)\n",
        "prediction.show(5)"
      ],
      "execution_count": 20,
      "outputs": [
        {
          "output_type": "stream",
          "text": [
            "+------+-------+------+----------+----------+\n",
            "|userId|movieId|rating| timestamp|prediction|\n",
            "+------+-------+------+----------+----------+\n",
            "|    91|    471|   1.0|1112713817| 2.6397994|\n",
            "|   409|    471|   3.0| 967912821| 4.4016886|\n",
            "|    57|    471|   3.0| 969753604| 3.6384692|\n",
            "|   387|    471|   3.0|1139047519| 3.1156638|\n",
            "|   610|    471|   4.0|1479544381| 3.4603376|\n",
            "+------+-------+------+----------+----------+\n",
            "only showing top 5 rows\n",
            "\n"
          ],
          "name": "stdout"
        }
      ]
    },
    {
      "cell_type": "markdown",
      "metadata": {
        "id": "CsJslGFpVcNF",
        "colab_type": "text"
      },
      "source": [
        "Hodel is not that good but we can proceed for further implementation"
      ]
    },
    {
      "cell_type": "code",
      "metadata": {
        "id": "NoiQJxyNVYl5",
        "colab_type": "code",
        "colab": {
          "base_uri": "https://localhost:8080/",
          "height": 289
        },
        "outputId": "d11b7c3a-51ae-423b-c85c-fe2a6037890e"
      },
      "source": [
        "prediction.join(movie_df,'movieId').select('userId','title','genres','prediction').show(10)"
      ],
      "execution_count": 22,
      "outputs": [
        {
          "output_type": "stream",
          "text": [
            "+------+--------------------+------+----------+\n",
            "|userId|               title|genres|prediction|\n",
            "+------+--------------------+------+----------+\n",
            "|    91|Hudsucker Proxy, ...|Comedy| 2.6397994|\n",
            "|   409|Hudsucker Proxy, ...|Comedy| 4.4016886|\n",
            "|    57|Hudsucker Proxy, ...|Comedy| 3.6384692|\n",
            "|   387|Hudsucker Proxy, ...|Comedy| 3.1156638|\n",
            "|   610|Hudsucker Proxy, ...|Comedy| 3.4603376|\n",
            "|   217|Hudsucker Proxy, ...|Comedy| 2.9657764|\n",
            "|   176|Hudsucker Proxy, ...|Comedy|  3.712875|\n",
            "|   448|Hudsucker Proxy, ...|Comedy| 3.5359695|\n",
            "|   411|Hudsucker Proxy, ...|Comedy| 3.2569504|\n",
            "|   357|Hudsucker Proxy, ...|Comedy| 3.8796024|\n",
            "+------+--------------------+------+----------+\n",
            "only showing top 10 rows\n",
            "\n"
          ],
          "name": "stdout"
        }
      ]
    },
    {
      "cell_type": "code",
      "metadata": {
        "id": "NLOT8nDOVypj",
        "colab_type": "code",
        "colab": {
          "base_uri": "https://localhost:8080/",
          "height": 204
        },
        "outputId": "10d5fcde-6516-448b-ec28-5e9f058c3767"
      },
      "source": [
        "#for one user let's predict\n",
        "one_user = prediction.filter(col('userId')==599).join(movie_df,'movieId').join(link_df,'movieId').select('userId','title','tmdbId','genres','prediction').show(5)"
      ],
      "execution_count": 27,
      "outputs": [
        {
          "output_type": "stream",
          "text": [
            "+------+--------------------+------+--------------------+----------+\n",
            "|userId|               title|tmdbId|              genres|prediction|\n",
            "+------+--------------------+------+--------------------+----------+\n",
            "|   599|High School High ...|  9308|              Comedy| 1.5417631|\n",
            "|   599|Land Before Time,...| 12144|Adventure|Animati...| 2.6928566|\n",
            "|   599|Just One of the G...| 24548|              Comedy| 2.5960145|\n",
            "|   599|Before Sunset (2004)|    80|       Drama|Romance| 2.8471794|\n",
            "|   599|           Go (1999)|  9430|        Comedy|Crime|  3.274642|\n",
            "+------+--------------------+------+--------------------+----------+\n",
            "only showing top 5 rows\n",
            "\n"
          ],
          "name": "stdout"
        }
      ]
    },
    {
      "cell_type": "code",
      "metadata": {
        "id": "4eV2bdqJWvbL",
        "colab_type": "code",
        "colab": {
          "base_uri": "https://localhost:8080/",
          "height": 51
        },
        "outputId": "730821e9-1775-4373-c5ef-3456764c0fd2"
      },
      "source": [
        "import webbrowser\n",
        "link = 'https://www.themoviedb.org/movie/'\n",
        "for movie in prediction.filter(col('userId')==599).join(movie_df,'movieId').join(link_df,'movieId').select('userId','title','tmdbId','genres','prediction').take(2):\n",
        "  # print(movie[2])\n",
        "  movieURL = link+str(movie[2])\n",
        "  print(movie.title)\n",
        "  webbrowser.open(movieURL)"
      ],
      "execution_count": 49,
      "outputs": [
        {
          "output_type": "stream",
          "text": [
            "High School High (1996)\n",
            "Land Before Time, The (1988)\n"
          ],
          "name": "stdout"
        }
      ]
    },
    {
      "cell_type": "code",
      "metadata": {
        "id": "wwC6ZSa2XmsM",
        "colab_type": "code",
        "colab": {}
      },
      "source": [
        "user_recom = model.recommendForAllUsers(4)\n",
        "#book recommendation for all users (4 user each)\n",
        "movie_recom = model.recommendForAllItems(4)"
      ],
      "execution_count": 0,
      "outputs": []
    },
    {
      "cell_type": "code",
      "metadata": {
        "id": "YJBWQ7lIhMI9",
        "colab_type": "code",
        "colab": {
          "base_uri": "https://localhost:8080/",
          "height": 136
        },
        "outputId": "7e8e53bf-692b-49c5-bcb7-b5ed06a36fdf"
      },
      "source": [
        "user_recom.printSchema()"
      ],
      "execution_count": 74,
      "outputs": [
        {
          "output_type": "stream",
          "text": [
            "root\n",
            " |-- userId: integer (nullable = false)\n",
            " |-- recommendations: array (nullable = true)\n",
            " |    |-- element: struct (containsNull = true)\n",
            " |    |    |-- movieId: integer (nullable = true)\n",
            " |    |    |-- rating: float (nullable = true)\n",
            "\n"
          ],
          "name": "stdout"
        }
      ]
    },
    {
      "cell_type": "code",
      "metadata": {
        "id": "MKVMFzFNY8dH",
        "colab_type": "code",
        "colab": {
          "base_uri": "https://localhost:8080/",
          "height": 187
        },
        "outputId": "8197033f-e759-4250-83f9-c537648f7521"
      },
      "source": [
        "user_recom.select('userId','recommendations.movieId').show(4,False)"
      ],
      "execution_count": 75,
      "outputs": [
        {
          "output_type": "stream",
          "text": [
            "+------+----------------------------+\n",
            "|userId|movieId                     |\n",
            "+------+----------------------------+\n",
            "|471   |[87234, 89904, 96004, 68945]|\n",
            "|463   |[7842, 33649, 5075, 59018]  |\n",
            "|496   |[213, 3567, 51931, 4495]    |\n",
            "|148   |[87234, 67695, 42730, 6732] |\n",
            "+------+----------------------------+\n",
            "only showing top 4 rows\n",
            "\n"
          ],
          "name": "stdout"
        }
      ]
    },
    {
      "cell_type": "code",
      "metadata": {
        "id": "deNYFCO3dIIZ",
        "colab_type": "code",
        "colab": {
          "base_uri": "https://localhost:8080/",
          "height": 187
        },
        "outputId": "644590dc-02f0-4e8c-8605-a5aedbd75185"
      },
      "source": [
        "movie_recom.select('movieId','recommendations.userId').show(4,False)"
      ],
      "execution_count": 55,
      "outputs": [
        {
          "output_type": "stream",
          "text": [
            "+-------+--------------------+\n",
            "|movieId|userId              |\n",
            "+-------+--------------------+\n",
            "|1580   |[53, 543, 276, 43]  |\n",
            "|4900   |[43, 53, 543, 267]  |\n",
            "|5300   |[191, 296, 154, 418]|\n",
            "|6620   |[236, 295, 191, 494]|\n",
            "+-------+--------------------+\n",
            "only showing top 4 rows\n",
            "\n"
          ],
          "name": "stdout"
        }
      ]
    },
    {
      "cell_type": "code",
      "metadata": {
        "id": "zJqRKkmndlbU",
        "colab_type": "code",
        "colab": {}
      },
      "source": [
        "users = rating_df.select('userId').distinct().limit(2)"
      ],
      "execution_count": 0,
      "outputs": []
    },
    {
      "cell_type": "code",
      "metadata": {
        "id": "ByDoEavOd9KQ",
        "colab_type": "code",
        "colab": {
          "base_uri": "https://localhost:8080/",
          "height": 136
        },
        "outputId": "68e992ac-f1f0-4695-9550-5438caf7d08a"
      },
      "source": [
        "userSubsetRecs = model.recommendForUserSubset(users, 5)\n",
        "userSubsetRecs.show(5,False)"
      ],
      "execution_count": 63,
      "outputs": [
        {
          "output_type": "stream",
          "text": [
            "+------+--------------------------------------------------------------------------------------------------+\n",
            "|userId|recommendations                                                                                   |\n",
            "+------+--------------------------------------------------------------------------------------------------+\n",
            "|463   |[[7842, 5.4397016], [33649, 5.1350226], [5075, 5.116223], [59018, 5.0812526], [183897, 5.066984]] |\n",
            "|148   |[[87234, 5.1113057], [67695, 4.930197], [42730, 4.9271736], [6732, 4.7600923], [33649, 4.6359415]]|\n",
            "+------+--------------------------------------------------------------------------------------------------+\n",
            "\n"
          ],
          "name": "stdout"
        }
      ]
    },
    {
      "cell_type": "code",
      "metadata": {
        "id": "sHY99DObeBwW",
        "colab_type": "code",
        "colab": {
          "base_uri": "https://localhost:8080/",
          "height": 136
        },
        "outputId": "10d13c22-8f81-4814-bb3a-1103d3ccbeca"
      },
      "source": [
        "userSubsetRecs.select('userId','recommendations.MovieId').show(5,False)"
      ],
      "execution_count": 76,
      "outputs": [
        {
          "output_type": "stream",
          "text": [
            "+------+----------------------------------+\n",
            "|userId|MovieId                           |\n",
            "+------+----------------------------------+\n",
            "|463   |[7842, 33649, 5075, 59018, 183897]|\n",
            "|148   |[87234, 67695, 42730, 6732, 33649]|\n",
            "+------+----------------------------------+\n",
            "\n"
          ],
          "name": "stdout"
        }
      ]
    },
    {
      "cell_type": "markdown",
      "metadata": {
        "id": "CxsDIly0hb97",
        "colab_type": "text"
      },
      "source": [
        "So this is another example of reccommenation implimentation"
      ]
    },
    {
      "cell_type": "code",
      "metadata": {
        "id": "4FNTcxuFffMX",
        "colab_type": "code",
        "colab": {}
      },
      "source": [
        ""
      ],
      "execution_count": 0,
      "outputs": []
    }
  ]
}