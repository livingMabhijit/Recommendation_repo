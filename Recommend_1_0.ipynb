{
  "nbformat": 4,
  "nbformat_minor": 0,
  "metadata": {
    "colab": {
      "name": "Recommend_1.0.ipynb",
      "provenance": [],
      "collapsed_sections": [],
      "mount_file_id": "1xEZRV4BEJQNcgolS3yJnS8uAl3M-EjTW",
      "authorship_tag": "ABX9TyPN6/HlKqstka1mAYGmiMnr",
      "include_colab_link": true
    },
    "kernelspec": {
      "name": "python3",
      "display_name": "Python 3"
    }
  },
  "cells": [
    {
      "cell_type": "markdown",
      "metadata": {
        "id": "view-in-github",
        "colab_type": "text"
      },
      "source": [
        "<a href=\"https://colab.research.google.com/github/livingMabhijit/Recommendation_repo/blob/master/Recommend_1_0.ipynb\" target=\"_parent\"><img src=\"https://colab.research.google.com/assets/colab-badge.svg\" alt=\"Open In Colab\"/></a>"
      ]
    },
    {
      "cell_type": "code",
      "metadata": {
        "id": "4B0OnmiEbV3y",
        "colab_type": "code",
        "colab": {}
      },
      "source": [
        "import pyspark as ps\n",
        "from pyspark.sql import SQLContext\n",
        "from pyspark.ml.evaluation import RegressionEvaluator\n",
        "from pyspark.ml.tuning import CrossValidator,ParamGridBuilder\n",
        "from pyspark.ml import Pipeline\n",
        "from pyspark.sql import Row\n",
        "from pyspark.ml.recommendation import ALS\n",
        "from pyspark.sql.functions import udf,col,when\n",
        "import numpy as np\n"
      ],
      "execution_count": 0,
      "outputs": []
    },
    {
      "cell_type": "code",
      "metadata": {
        "id": "zihIO7TGcAqK",
        "colab_type": "code",
        "colab": {}
      },
      "source": [
        "#pip install pyspark"
      ],
      "execution_count": 0,
      "outputs": []
    },
    {
      "cell_type": "code",
      "metadata": {
        "id": "cp1uCiGXcFui",
        "colab_type": "code",
        "colab": {}
      },
      "source": [
        "from IPython.display import Image\n",
        "from IPython.display import display\n",
        "\n",
        "\n",
        "#spark session creation\n",
        "spark = ps.sql.SparkSession.builder \\\n",
        "        .master('local') \\\n",
        "        .appName('book') \\\n",
        "        .getOrCreate()\n",
        "sc= spark.sparkContext\n",
        "sqlContext = SQLContext(sc)"
      ],
      "execution_count": 0,
      "outputs": []
    },
    {
      "cell_type": "code",
      "metadata": {
        "id": "61hGBlgKeE8w",
        "colab_type": "code",
        "colab": {
          "base_uri": "https://localhost:8080/",
          "height": 102
        },
        "outputId": "8ff4142d-78e2-4212-d0d8-3e68c2f784ed"
      },
      "source": [
        "rating_df = spark.read.csv('/content/drive/My Drive/datasets/ratings.csv',header=True,inferSchema=True)\n",
        "rating_df.printSchema()"
      ],
      "execution_count": 6,
      "outputs": [
        {
          "output_type": "stream",
          "text": [
            "root\n",
            " |-- book_id: integer (nullable = true)\n",
            " |-- user_id: integer (nullable = true)\n",
            " |-- rating: integer (nullable = true)\n",
            "\n"
          ],
          "name": "stdout"
        }
      ]
    },
    {
      "cell_type": "code",
      "metadata": {
        "id": "P6SCl7hfeyrP",
        "colab_type": "code",
        "colab": {
          "base_uri": "https://localhost:8080/",
          "height": 204
        },
        "outputId": "0348f3c5-1888-46c3-a2cf-628fa2cb04b7"
      },
      "source": [
        "rating_df.show(5)"
      ],
      "execution_count": 7,
      "outputs": [
        {
          "output_type": "stream",
          "text": [
            "+-------+-------+------+\n",
            "|book_id|user_id|rating|\n",
            "+-------+-------+------+\n",
            "|      1|    314|     5|\n",
            "|      1|    439|     3|\n",
            "|      1|    588|     5|\n",
            "|      1|   1169|     4|\n",
            "|      1|   1185|     4|\n",
            "+-------+-------+------+\n",
            "only showing top 5 rows\n",
            "\n"
          ],
          "name": "stdout"
        }
      ]
    },
    {
      "cell_type": "code",
      "metadata": {
        "id": "WkF8-mKWfFKT",
        "colab_type": "code",
        "colab": {
          "base_uri": "https://localhost:8080/",
          "height": 442
        },
        "outputId": "66ed7efd-6793-4eca-cb5b-be35df7ac68f"
      },
      "source": [
        "#book data\n",
        "book_df =spark.read.csv('/content/drive/My Drive/datasets/books.csv',header=True,inferSchema=True)\n",
        "book_df.printSchema()"
      ],
      "execution_count": 8,
      "outputs": [
        {
          "output_type": "stream",
          "text": [
            "root\n",
            " |-- id: integer (nullable = true)\n",
            " |-- book_id: integer (nullable = true)\n",
            " |-- best_book_id: integer (nullable = true)\n",
            " |-- work_id: integer (nullable = true)\n",
            " |-- books_count: integer (nullable = true)\n",
            " |-- isbn: string (nullable = true)\n",
            " |-- isbn13: double (nullable = true)\n",
            " |-- authors: string (nullable = true)\n",
            " |-- original_publication_year: double (nullable = true)\n",
            " |-- original_title: string (nullable = true)\n",
            " |-- title: string (nullable = true)\n",
            " |-- language_code: string (nullable = true)\n",
            " |-- average_rating: string (nullable = true)\n",
            " |-- ratings_count: string (nullable = true)\n",
            " |-- work_ratings_count: string (nullable = true)\n",
            " |-- work_text_reviews_count: string (nullable = true)\n",
            " |-- ratings_1: double (nullable = true)\n",
            " |-- ratings_2: integer (nullable = true)\n",
            " |-- ratings_3: integer (nullable = true)\n",
            " |-- ratings_4: integer (nullable = true)\n",
            " |-- ratings_5: integer (nullable = true)\n",
            " |-- image_url: string (nullable = true)\n",
            " |-- small_image_url: string (nullable = true)\n",
            "\n"
          ],
          "name": "stdout"
        }
      ]
    },
    {
      "cell_type": "code",
      "metadata": {
        "id": "5dWQpBj2fSLJ",
        "colab_type": "code",
        "colab": {
          "base_uri": "https://localhost:8080/",
          "height": 173
        },
        "outputId": "dd6115ec-686b-4331-cb4a-99f8569214aa"
      },
      "source": [
        "book_df.show(2)"
      ],
      "execution_count": 9,
      "outputs": [
        {
          "output_type": "stream",
          "text": [
            "+---+-------+------------+-------+-----------+---------+----------------+--------------------+-------------------------+--------------------+--------------------+-------------+--------------+-------------+------------------+-----------------------+---------+---------+---------+---------+---------+--------------------+--------------------+\n",
            "| id|book_id|best_book_id|work_id|books_count|     isbn|          isbn13|             authors|original_publication_year|      original_title|               title|language_code|average_rating|ratings_count|work_ratings_count|work_text_reviews_count|ratings_1|ratings_2|ratings_3|ratings_4|ratings_5|           image_url|     small_image_url|\n",
            "+---+-------+------------+-------+-----------+---------+----------------+--------------------+-------------------------+--------------------+--------------------+-------------+--------------+-------------+------------------+-----------------------+---------+---------+---------+---------+---------+--------------------+--------------------+\n",
            "|  1|2767052|     2767052|2792775|        272|439023483|9.78043902348E12|     Suzanne Collins|                   2008.0|    The Hunger Games|The Hunger Games ...|          eng|          4.34|      4780653|           4942365|                 155254|  66715.0|   127936|   560092|  1481305|  2706317|https://images.gr...|https://images.gr...|\n",
            "|  2|      3|           3|4640799|        491|439554934|9.78043955493E12|J.K. Rowling, Mar...|                   1997.0|Harry Potter and ...|Harry Potter and ...|          eng|          4.44|      4602479|           4800065|                  75867|  75504.0|   101676|   455024|  1156318|  3011543|https://images.gr...|https://images.gr...|\n",
            "+---+-------+------------+-------+-----------+---------+----------------+--------------------+-------------------------+--------------------+--------------------+-------------+--------------+-------------+------------------+-----------------------+---------+---------+---------+---------+---------+--------------------+--------------------+\n",
            "only showing top 2 rows\n",
            "\n"
          ],
          "name": "stdout"
        }
      ]
    },
    {
      "cell_type": "code",
      "metadata": {
        "id": "1O-L1H_jfXLo",
        "colab_type": "code",
        "colab": {}
      },
      "source": [
        "#splitting train and test data\n",
        "train_df,val_df = rating_df.randomSplit([0.8,0.2])\n",
        "#parameter init\n",
        "iterations = 12\n",
        "reg_param = 0.1 #lambda\n",
        "rank = 5 #rank matrix\n",
        "errors = []\n",
        "err = 0"
      ],
      "execution_count": 0,
      "outputs": []
    },
    {
      "cell_type": "code",
      "metadata": {
        "id": "KN3KkRqBgcbU",
        "colab_type": "code",
        "colab": {
          "base_uri": "https://localhost:8080/",
          "height": 34
        },
        "outputId": "5f345777-6e3b-4357-cd12-74859aa2fc4e"
      },
      "source": [
        "#model build\n",
        "als = ALS(rank=rank,maxIter=iterations,regParam=reg_param,userCol='user_id',itemCol='book_id',ratingCol='rating')\n",
        "model  = als.fit(train_df)\n",
        "pred = model.transform(val_df)\n",
        "new_pred = pred.filter(col('prediction')!=np.nan)\n",
        "evaluator = RegressionEvaluator(metricName='rmse',labelCol='rating',predictionCol='prediction')\n",
        "rmse = evaluator.evaluate(new_pred)\n",
        "print(rmse)"
      ],
      "execution_count": 11,
      "outputs": [
        {
          "output_type": "stream",
          "text": [
            "0.8969607880591141\n"
          ],
          "name": "stdout"
        }
      ]
    },
    {
      "cell_type": "code",
      "metadata": {
        "id": "jOpM6FmHiMjA",
        "colab_type": "code",
        "colab": {
          "base_uri": "https://localhost:8080/",
          "height": 68
        },
        "outputId": "15e212ab-777f-48ab-c83f-425abc541968"
      },
      "source": [
        " ###in case you get error for java, here is the code\n",
        "import os #importing os to set environment variable\n",
        "def install_java():\n",
        "  !apt-get install -y openjdk-8-jdk-headless -qq > /dev/null #install openjdk\n",
        "  os.environ[\"JAVA_HOME\"] = \"/usr/lib/jvm/java-8-openjdk-amd64\" #set environment variable\n",
        "  !java -version #check java version\n",
        "  # !apt-get install openjdk-8-jdk-headless -qq > /dev/null\n",
        "  # import os\n",
        "  # os.environ[\"JAVA_HOME\"] = \"/usr/lib/jvm/java-8-openjdk-amd64\"\n",
        "  # !update-alternatives --set java /usr/lib/jvm/java-8-openjdk-amd64/jre/bin/java\n",
        "  # !java -version\n",
        "install_java()"
      ],
      "execution_count": 4,
      "outputs": [
        {
          "output_type": "stream",
          "text": [
            "openjdk version \"1.8.0_252\"\n",
            "OpenJDK Runtime Environment (build 1.8.0_252-8u252-b09-1~18.04-b09)\n",
            "OpenJDK 64-Bit Server VM (build 25.252-b09, mixed mode)\n"
          ],
          "name": "stdout"
        }
      ]
    },
    {
      "cell_type": "code",
      "metadata": {
        "id": "VMsLlHLHjvuI",
        "colab_type": "code",
        "colab": {
          "base_uri": "https://localhost:8080/",
          "height": 68
        },
        "outputId": "28cf6ad7-6810-48a1-87b4-ecc3d4f13510"
      },
      "source": [
        "!java -version"
      ],
      "execution_count": 1,
      "outputs": [
        {
          "output_type": "stream",
          "text": [
            "openjdk version \"1.8.0_252\"\n",
            "OpenJDK Runtime Environment (build 1.8.0_252-8u252-b09-1~18.04-b09)\n",
            "OpenJDK 64-Bit Server VM (build 25.252-b09, mixed mode)\n"
          ],
          "name": "stdout"
        }
      ]
    },
    {
      "cell_type": "markdown",
      "metadata": {
        "id": "WwtGmBCroVNL",
        "colab_type": "text"
      },
      "source": [
        "Let's see Cross validation in action."
      ]
    },
    {
      "cell_type": "code",
      "metadata": {
        "id": "3nELA7SAkLQT",
        "colab_type": "code",
        "colab": {}
      },
      "source": [
        "als_cv = ALS(rank=rank,maxIter=iterations,regParam=reg_param,userCol='user_id',itemCol='book_id',ratingCol='rating')\n",
        "ParamGrid = ParamGridBuilder() \\\n",
        "    .addGrid(als_cv.regParam,[0.01,0.1,1.0]) \\\n",
        "    .addGrid(als_cv.rank,[4,5,6,7]) \\\n",
        "    .build()\n",
        "evaluator = RegressionEvaluator(metricName='rmse',labelCol='rating',predictionCol='prediction')\n",
        "crossval = CrossValidator(\n",
        "    estimator = als_cv,\n",
        "    estimatorParamMaps = ParamGrid,\n",
        "    evaluator = evaluator,\n",
        "    numFolds = 4\n",
        ")\n",
        "cvmodel = crossval.fit(train_df)"
      ],
      "execution_count": 0,
      "outputs": []
    },
    {
      "cell_type": "code",
      "metadata": {
        "id": "pO4azHd-mfiC",
        "colab_type": "code",
        "colab": {
          "base_uri": "https://localhost:8080/",
          "height": 204
        },
        "outputId": "16324ba5-fbf1-4243-fe41-ef68514eee56"
      },
      "source": [
        "prediction = model.transform(val_df)\n",
        "prediction.show(5)"
      ],
      "execution_count": 12,
      "outputs": [
        {
          "output_type": "stream",
          "text": [
            "+-------+-------+------+----------+\n",
            "|book_id|user_id|rating|prediction|\n",
            "+-------+-------+------+----------+\n",
            "|    148|   3087|     3| 3.5487852|\n",
            "|    148|  26629|     4| 3.8445916|\n",
            "|    148|   9165|     3|  3.721115|\n",
            "|    148|  22164|     3|  3.319882|\n",
            "|    148|  24326|     5|  3.479077|\n",
            "+-------+-------+------+----------+\n",
            "only showing top 5 rows\n",
            "\n"
          ],
          "name": "stdout"
        }
      ]
    },
    {
      "cell_type": "code",
      "metadata": {
        "id": "e_ZwXT-7wiHb",
        "colab_type": "code",
        "colab": {
          "base_uri": "https://localhost:8080/",
          "height": 204
        },
        "outputId": "b0e22845-b1a2-44a1-b7d2-06103e566246"
      },
      "source": [
        "prediction.join(book_df,'book_id').select('user_id','title','prediction').show(5)"
      ],
      "execution_count": 13,
      "outputs": [
        {
          "output_type": "stream",
          "text": [
            "+-------+----------+----------+\n",
            "|user_id|     title|prediction|\n",
            "+-------+----------+----------+\n",
            "|  15161|Lysistrata| 3.5407095|\n",
            "|   2331|Lysistrata| 3.3007188|\n",
            "|  10136|Lysistrata|  3.657051|\n",
            "|  51663|Lysistrata|  3.840766|\n",
            "|  36623|Lysistrata| 3.9733436|\n",
            "+-------+----------+----------+\n",
            "only showing top 5 rows\n",
            "\n"
          ],
          "name": "stdout"
        }
      ]
    },
    {
      "cell_type": "code",
      "metadata": {
        "id": "J9e7hoHvw4BO",
        "colab_type": "code",
        "colab": {
          "base_uri": "https://localhost:8080/",
          "height": 119
        },
        "outputId": "0638232b-6c1d-4ce8-94d2-5e55a6b5468e"
      },
      "source": [
        "one_user = prediction.filter(col('user_id')==12014).join(book_df,'book_id').select('user_id','title','image_url','prediction').show(5)"
      ],
      "execution_count": 14,
      "outputs": [
        {
          "output_type": "stream",
          "text": [
            "+-------+---------------+--------------------+----------+\n",
            "|user_id|          title|           image_url|prediction|\n",
            "+-------+---------------+--------------------+----------+\n",
            "|  12014|Never Let Me Go|https://images.gr...| 3.6355517|\n",
            "+-------+---------------+--------------------+----------+\n",
            "\n"
          ],
          "name": "stdout"
        }
      ]
    },
    {
      "cell_type": "code",
      "metadata": {
        "id": "az1Syu7LxRdh",
        "colab_type": "code",
        "colab": {
          "base_uri": "https://localhost:8080/",
          "height": 198
        },
        "outputId": "273844d8-acc0-45ad-ee0a-9cc12fb0d2d1"
      },
      "source": [
        "for book in one_user.take(5):\n",
        "  print(book.title)\n",
        "  display(Image(url = book.image_url))\n"
      ],
      "execution_count": 15,
      "outputs": [
        {
          "output_type": "error",
          "ename": "AttributeError",
          "evalue": "ignored",
          "traceback": [
            "\u001b[0;31m---------------------------------------------------------------------------\u001b[0m",
            "\u001b[0;31mAttributeError\u001b[0m                            Traceback (most recent call last)",
            "\u001b[0;32m<ipython-input-15-4dee877dde02>\u001b[0m in \u001b[0;36m<module>\u001b[0;34m()\u001b[0m\n\u001b[0;32m----> 1\u001b[0;31m \u001b[0;32mfor\u001b[0m \u001b[0mbook\u001b[0m \u001b[0;32min\u001b[0m \u001b[0mone_user\u001b[0m\u001b[0;34m.\u001b[0m\u001b[0mtake\u001b[0m\u001b[0;34m(\u001b[0m\u001b[0;36m5\u001b[0m\u001b[0;34m)\u001b[0m\u001b[0;34m:\u001b[0m\u001b[0;34m\u001b[0m\u001b[0;34m\u001b[0m\u001b[0m\n\u001b[0m\u001b[1;32m      2\u001b[0m   \u001b[0mprint\u001b[0m\u001b[0;34m(\u001b[0m\u001b[0mbook\u001b[0m\u001b[0;34m.\u001b[0m\u001b[0mtitle\u001b[0m\u001b[0;34m)\u001b[0m\u001b[0;34m\u001b[0m\u001b[0;34m\u001b[0m\u001b[0m\n\u001b[1;32m      3\u001b[0m   \u001b[0mdisplay\u001b[0m\u001b[0;34m(\u001b[0m\u001b[0mImage\u001b[0m\u001b[0;34m(\u001b[0m\u001b[0murl\u001b[0m \u001b[0;34m=\u001b[0m \u001b[0mbook\u001b[0m\u001b[0;34m.\u001b[0m\u001b[0mimage_url\u001b[0m\u001b[0;34m)\u001b[0m\u001b[0;34m)\u001b[0m\u001b[0;34m\u001b[0m\u001b[0;34m\u001b[0m\u001b[0m\n",
            "\u001b[0;31mAttributeError\u001b[0m: 'NoneType' object has no attribute 'take'"
          ]
        }
      ]
    },
    {
      "cell_type": "code",
      "metadata": {
        "id": "72dpfv4Yy41K",
        "colab_type": "code",
        "colab": {}
      },
      "source": [
        "#user recommendation for all books (4 user each)\n",
        "user_recom = model.recommendForAllUsers(4)\n",
        "#book recommendation for all users (4 user each)\n",
        "book_recom = model.recommendForAllItems(4)"
      ],
      "execution_count": 0,
      "outputs": []
    },
    {
      "cell_type": "code",
      "metadata": {
        "id": "-9dfFun128KH",
        "colab_type": "code",
        "colab": {
          "base_uri": "https://localhost:8080/",
          "height": 136
        },
        "outputId": "fd4b08ad-8508-4cce-ebb5-c69f47de4bf1"
      },
      "source": [
        "user_recom.printSchema()"
      ],
      "execution_count": 17,
      "outputs": [
        {
          "output_type": "stream",
          "text": [
            "root\n",
            " |-- user_id: integer (nullable = false)\n",
            " |-- recommendations: array (nullable = true)\n",
            " |    |-- element: struct (containsNull = true)\n",
            " |    |    |-- book_id: integer (nullable = true)\n",
            " |    |    |-- rating: float (nullable = true)\n",
            "\n"
          ],
          "name": "stdout"
        }
      ]
    },
    {
      "cell_type": "code",
      "metadata": {
        "id": "Tr9aYmm-1H_U",
        "colab_type": "code",
        "colab": {
          "base_uri": "https://localhost:8080/",
          "height": 187
        },
        "outputId": "5ddf944d-1e4f-4685-ba9d-87e14ffbc2de"
      },
      "source": [
        "user_recom.select('user_id','recommendations.book_id').show(4,False)"
      ],
      "execution_count": 18,
      "outputs": [
        {
          "output_type": "stream",
          "text": [
            "+-------+------------------------+\n",
            "|user_id|book_id                 |\n",
            "+-------+------------------------+\n",
            "|148    |[4868, 7593, 6751, 8362]|\n",
            "|463    |[5088, 9806, 4778, 6980]|\n",
            "|471    |[8854, 8120, 642, 2236] |\n",
            "|496    |[1338, 7242, 7499, 5325]|\n",
            "+-------+------------------------+\n",
            "only showing top 4 rows\n",
            "\n"
          ],
          "name": "stdout"
        }
      ]
    },
    {
      "cell_type": "code",
      "metadata": {
        "id": "_hitgsfx1lPB",
        "colab_type": "code",
        "colab": {
          "base_uri": "https://localhost:8080/",
          "height": 187
        },
        "outputId": "c0ad75eb-86d3-4798-8888-7d5c26d0cb54"
      },
      "source": [
        "book_recom.select('book_id','recommendations.user_id').show(4,False)"
      ],
      "execution_count": 19,
      "outputs": [
        {
          "output_type": "stream",
          "text": [
            "+-------+----------------------------+\n",
            "|book_id|user_id                     |\n",
            "+-------+----------------------------+\n",
            "|1580   |[7287, 30699, 37073, 3523]  |\n",
            "|4900   |[46796, 50062, 48324, 36411]|\n",
            "|5300   |[52593, 51361, 22259, 10482]|\n",
            "|6620   |[30699, 34848, 34547, 33118]|\n",
            "+-------+----------------------------+\n",
            "only showing top 4 rows\n",
            "\n"
          ],
          "name": "stdout"
        }
      ]
    },
    {
      "cell_type": "code",
      "metadata": {
        "id": "abzOodcM3Wia",
        "colab_type": "code",
        "colab": {
          "base_uri": "https://localhost:8080/",
          "height": 136
        },
        "outputId": "e8f0fe0a-a044-452f-f0db-91d70c380698"
      },
      "source": [
        "#for number of users not for all\n",
        "users = rating_df.select('user_id').distinct().limit(2).show()"
      ],
      "execution_count": 20,
      "outputs": [
        {
          "output_type": "stream",
          "text": [
            "+-------+\n",
            "|user_id|\n",
            "+-------+\n",
            "|  32592|\n",
            "|  19984|\n",
            "+-------+\n",
            "\n"
          ],
          "name": "stdout"
        }
      ]
    },
    {
      "cell_type": "code",
      "metadata": {
        "id": "VsORiYjq3vRk",
        "colab_type": "code",
        "colab": {}
      },
      "source": [
        "#recommending 5 books for given user ids\n",
        "#userSubsetRecs = model.recommendForUserSubset(users, 5)\n",
        "# user_recom_sub.show()"
      ],
      "execution_count": 0,
      "outputs": []
    },
    {
      "cell_type": "code",
      "metadata": {
        "id": "5KlwqIKk4M2a",
        "colab_type": "code",
        "colab": {
          "base_uri": "https://localhost:8080/",
          "height": 187
        },
        "outputId": "cf402426-b8dc-416b-c2cc-48da0aa62a47"
      },
      "source": [
        "book_subset = book_df.select('book_id').distinct().limit(5).show()"
      ],
      "execution_count": 24,
      "outputs": [
        {
          "output_type": "stream",
          "text": [
            "+--------+\n",
            "| book_id|\n",
            "+--------+\n",
            "|17802724|\n",
            "|    2122|\n",
            "|    4900|\n",
            "|  121749|\n",
            "|   33722|\n",
            "+--------+\n",
            "\n"
          ],
          "name": "stdout"
        }
      ]
    },
    {
      "cell_type": "code",
      "metadata": {
        "id": "ccWmLOav7DsG",
        "colab_type": "code",
        "colab": {}
      },
      "source": [
        "#book_sub_rec = model.recommendForItemSubset(book_subset, 10)"
      ],
      "execution_count": 0,
      "outputs": []
    },
    {
      "cell_type": "code",
      "metadata": {
        "id": "_Y-tEIOw7RBL",
        "colab_type": "code",
        "colab": {}
      },
      "source": [
        ""
      ],
      "execution_count": 0,
      "outputs": []
    }
  ]
}